{
  "nbformat": 4,
  "nbformat_minor": 0,
  "metadata": {
    "colab": {
      "provenance": [],
      "toc_visible": true,
      "authorship_tag": "ABX9TyOHGgAOHqeg4pVOkHrwW4hs",
      "include_colab_link": true
    },
    "kernelspec": {
      "name": "python3",
      "display_name": "Python 3"
    },
    "language_info": {
      "name": "python"
    }
  },
  "cells": [
    {
      "cell_type": "markdown",
      "metadata": {
        "id": "view-in-github",
        "colab_type": "text"
      },
      "source": [
        "<a href=\"https://colab.research.google.com/github/li0217codeninja/signal-processing-toolbox/blob/main/denoise_ECG.ipynb\" target=\"_parent\"><img src=\"https://colab.research.google.com/assets/colab-badge.svg\" alt=\"Open In Colab\"/></a>"
      ]
    },
    {
      "cell_type": "markdown",
      "source": [
        "## Open files from GCS with gstuil"
      ],
      "metadata": {
        "id": "V5YA9veB3Jp7"
      }
    },
    {
      "cell_type": "code",
      "execution_count": null,
      "metadata": {
        "id": "nbbntRks1aQV"
      },
      "outputs": [],
      "source": [
        "from google.colab import auth\n",
        "auth.authenticate_user()\n",
        "\n",
        "# https://cloud.google.com/resource-manager/docs/creating-managing-projects\n",
        "project_id = 'biosignals-processing'\n",
        "bucket_name = 'gs://nstdb-1.0.0.physionet.org'\n",
        "!gcloud config set project {project_id}"
      ]
    },
    {
      "cell_type": "code",
      "source": [
        "from google.colab import drive\n",
        "drive.mount('/content/gdrive')\n",
        "#!ls '/content/gdrive/My Drive/Colab Notebooks'"
      ],
      "metadata": {
        "id": "bs72QW5kBB2N"
      },
      "execution_count": null,
      "outputs": []
    },
    {
      "cell_type": "code",
      "source": [
        "# Download the file from a given Google Cloud Storage bucket.\n",
        "!gsutil -m -u {project_id} cp -r gs://nstdb-1.0.0.physionet.org '/content/gdrive/My Drive/ecg'"
      ],
      "metadata": {
        "id": "i-Gp0xCn22Z4"
      },
      "execution_count": null,
      "outputs": []
    },
    {
      "cell_type": "code",
      "source": [
        "import os\n",
        "\n",
        "data_path = '/content/gdrive/My Drive/ecg/nstdb-1.0.0.physionet.org'\n",
        "os.chdir(data_path)\n",
        "!ls"
      ],
      "metadata": {
        "colab": {
          "base_uri": "https://localhost:8080/"
        },
        "id": "wD8upqzTBvJi",
        "outputId": "13f97e6d-c85d-422c-bb75-7f65a6d05b4a"
      },
      "execution_count": 17,
      "outputs": [
        {
          "output_type": "stream",
          "name": "stdout",
          "text": [
            "118e00.atr  118e18.hea\t119e06.atr  119e24.hea\tem.xws\n",
            "118e00.dat  118e18.xws\t119e06.dat  119e24.xws\tma.dat\n",
            "118e00.hea  118e24.atr\t119e06.hea  119e_6.atr\tma.hea\n",
            "118e00.xws  118e24.dat\t119e06.xws  119e_6.dat\tma.hea-\n",
            "118e06.atr  118e24.hea\t119e12.atr  119e_6.hea\tma.xws\n",
            "118e06.dat  118e24.xws\t119e12.dat  119e_6.xws\tmit-bih-noise-stress-test-database-1.0.0.zip\n",
            "118e06.hea  118e_6.atr\t119e12.hea  ANNOTATORS\tnstdb.doc\n",
            "118e06.xws  118e_6.dat\t119e12.xws  bw.dat\tnstdbgen\n",
            "118e12.atr  118e_6.hea\t119e18.atr  bw.hea\tnstdbgen-\n",
            "118e12.dat  118e_6.xws\t119e18.dat  bw.hea-\tnstdb.txt\n",
            "118e12.hea  119e00.atr\t119e18.hea  bw.xws\told\n",
            "118e12.xws  119e00.dat\t119e18.xws  em.dat\tRECORDS\n",
            "118e18.atr  119e00.hea\t119e24.atr  em.hea\tSHA256SUMS.txt\n",
            "118e18.dat  119e00.xws\t119e24.dat  em.hea-\n"
          ]
        }
      ]
    },
    {
      "cell_type": "code",
      "source": [
        "# Unzip noise dataset\n",
        "!unzip mit-bih-noise-stress-test-database-1.0.0.zip -d noise-stress-test-db"
      ],
      "metadata": {
        "id": "5ktGv4QCMdpu"
      },
      "execution_count": null,
      "outputs": []
    },
    {
      "cell_type": "code",
      "source": [
        "os.chdir(data_path + '/noise-stress-test-db/mit-bih-noise-stress-test-database-1.0.0' )\n",
        "os.getcwd()\n",
        "!ls"
      ],
      "metadata": {
        "colab": {
          "base_uri": "https://localhost:8080/"
        },
        "id": "w-o_jz2ONQhJ",
        "outputId": "077a5a2d-1d2c-4f9c-eee8-1450feb5cbf6"
      },
      "execution_count": 23,
      "outputs": [
        {
          "output_type": "stream",
          "name": "stdout",
          "text": [
            "118e00.atr  118e12.dat\t118e24.hea  119e00.xws\t119e18.atr  119e_6.dat\tem.hea\t   nstdbgen-\n",
            "118e00.dat  118e12.hea\t118e24.xws  119e06.atr\t119e18.dat  119e_6.hea\tem.hea-    nstdb.txt\n",
            "118e00.hea  118e12.xws\t118e_6.atr  119e06.dat\t119e18.hea  119e_6.xws\tem.xws\t   old\n",
            "118e00.xws  118e18.atr\t118e_6.dat  119e06.hea\t119e18.xws  ANNOTATORS\tma.dat\t   RECORDS\n",
            "118e06.atr  118e18.dat\t118e_6.hea  119e06.xws\t119e24.atr  bw.dat\tma.hea\t   SHA256SUMS.txt\n",
            "118e06.dat  118e18.hea\t118e_6.xws  119e12.atr\t119e24.dat  bw.hea\tma.hea-\n",
            "118e06.hea  118e18.xws\t119e00.atr  119e12.dat\t119e24.hea  bw.hea-\tma.xws\n",
            "118e06.xws  118e24.atr\t119e00.dat  119e12.hea\t119e24.xws  bw.xws\tnstdb.doc\n",
            "118e12.atr  118e24.dat\t119e00.hea  119e12.xws\t119e_6.atr  em.dat\tnstdbgen\n"
          ]
        }
      ]
    },
    {
      "cell_type": "code",
      "source": [
        "#install requiured waveform database to extract PhysioNet signals and annotations\n",
        "!pip install wfdb"
      ],
      "metadata": {
        "id": "IuSw-VypNiB_"
      },
      "execution_count": null,
      "outputs": []
    },
    {
      "cell_type": "code",
      "source": [],
      "metadata": {
        "id": "BRrGNxR2N5CV"
      },
      "execution_count": null,
      "outputs": []
    },
    {
      "cell_type": "markdown",
      "source": [
        "## Extract Biosignals"
      ],
      "metadata": {
        "id": "RysJb3lTN7iH"
      }
    },
    {
      "cell_type": "code",
      "source": [
        "# Import libraries\n",
        "import wfdb\n",
        "import pandas as pd\n",
        "import matplotlib.pyplot as plt\n"
      ],
      "metadata": {
        "id": "o8ZGOoiSOCL7"
      },
      "execution_count": 28,
      "outputs": []
    },
    {
      "cell_type": "code",
      "source": [
        "# Open the selected record\n",
        "record = wfdb.rdrecord('118e00')\n",
        "annotations = wfdb.rdann('118e00','atr')\n",
        "\n",
        "print(list(set(annotations.symbol)))\n",
        "\n",
        "signals = record.p_signal\n",
        "\n",
        "sampling_freq = record.fs"
      ],
      "metadata": {
        "colab": {
          "base_uri": "https://localhost:8080/"
        },
        "id": "iYwiMpk3OVFI",
        "outputId": "8368b021-cd73-4f5e-b99f-6104ed2f5bad"
      },
      "execution_count": 49,
      "outputs": [
        {
          "output_type": "stream",
          "name": "stdout",
          "text": [
            "['A', '+', '~', 'R', 'x', 'V']\n"
          ]
        }
      ]
    },
    {
      "cell_type": "code",
      "source": [
        "type(signals)"
      ],
      "metadata": {
        "colab": {
          "base_uri": "https://localhost:8080/"
        },
        "id": "W-zvS9JNPOkv",
        "outputId": "95a79804-610a-4285-acf2-3379707aa4ce"
      },
      "execution_count": 33,
      "outputs": [
        {
          "output_type": "execute_result",
          "data": {
            "text/plain": [
              "numpy.ndarray"
            ]
          },
          "metadata": {},
          "execution_count": 33
        }
      ]
    },
    {
      "cell_type": "code",
      "source": [
        "dir(record)"
      ],
      "metadata": {
        "colab": {
          "base_uri": "https://localhost:8080/"
        },
        "id": "YIKN3GioPnoz",
        "outputId": "4a4d8cd8-64ec-46fa-f1c4-5a786187c781"
      },
      "execution_count": 38,
      "outputs": [
        {
          "output_type": "execute_result",
          "data": {
            "text/plain": [
              "['__class__',\n",
              " '__delattr__',\n",
              " '__dict__',\n",
              " '__dir__',\n",
              " '__doc__',\n",
              " '__eq__',\n",
              " '__format__',\n",
              " '__ge__',\n",
              " '__getattribute__',\n",
              " '__gt__',\n",
              " '__hash__',\n",
              " '__init__',\n",
              " '__init_subclass__',\n",
              " '__le__',\n",
              " '__lt__',\n",
              " '__module__',\n",
              " '__ne__',\n",
              " '__new__',\n",
              " '__reduce__',\n",
              " '__reduce_ex__',\n",
              " '__repr__',\n",
              " '__setattr__',\n",
              " '__sizeof__',\n",
              " '__str__',\n",
              " '__subclasshook__',\n",
              " '__weakref__',\n",
              " '_adjust_datetime',\n",
              " '_arrange_fields',\n",
              " '_auto_signal_file_names',\n",
              " 'adc',\n",
              " 'adc_gain',\n",
              " 'adc_res',\n",
              " 'adc_zero',\n",
              " 'base_counter',\n",
              " 'base_date',\n",
              " 'base_datetime',\n",
              " 'base_time',\n",
              " 'baseline',\n",
              " 'block_size',\n",
              " 'byte_offset',\n",
              " 'calc_adc_params',\n",
              " 'calc_checksum',\n",
              " 'check_field',\n",
              " 'check_field_cohesion',\n",
              " 'check_read_inputs',\n",
              " 'check_sig_cohesion',\n",
              " 'checksum',\n",
              " 'comments',\n",
              " 'convert_dtype',\n",
              " 'counter_freq',\n",
              " 'd_signal',\n",
              " 'dac',\n",
              " 'e_d_signal',\n",
              " 'e_p_signal',\n",
              " 'file_name',\n",
              " 'fmt',\n",
              " 'fs',\n",
              " 'get_absolute_time',\n",
              " 'get_elapsed_time',\n",
              " 'get_frame_number',\n",
              " 'get_write_fields',\n",
              " 'get_write_subset',\n",
              " 'init_value',\n",
              " 'n_sig',\n",
              " 'p_signal',\n",
              " 'record_name',\n",
              " 'samps_per_frame',\n",
              " 'set_d_features',\n",
              " 'set_default',\n",
              " 'set_defaults',\n",
              " 'set_p_features',\n",
              " 'sig_len',\n",
              " 'sig_name',\n",
              " 'skew',\n",
              " 'smooth_frames',\n",
              " 'to_dataframe',\n",
              " 'units',\n",
              " 'wr_dat_files',\n",
              " 'wr_dats',\n",
              " 'wr_header_file',\n",
              " 'wrheader',\n",
              " 'wrsamp']"
            ]
          },
          "metadata": {},
          "execution_count": 38
        }
      ]
    },
    {
      "cell_type": "code",
      "source": [
        "plt.plot(signals[1000:2000,0])"
      ],
      "metadata": {
        "colab": {
          "base_uri": "https://localhost:8080/",
          "height": 448
        },
        "id": "-jQ2Vvm9O20p",
        "outputId": "16af9d0a-c5e1-4a6f-bc39-87d980d14dbd"
      },
      "execution_count": 44,
      "outputs": [
        {
          "output_type": "execute_result",
          "data": {
            "text/plain": [
              "[<matplotlib.lines.Line2D at 0x7e9e3ad6e950>]"
            ]
          },
          "metadata": {},
          "execution_count": 44
        },
        {
          "output_type": "display_data",
          "data": {
            "text/plain": [
              "<Figure size 640x480 with 1 Axes>"
            ],
            "image/png": "[encoded data removed]"
          },
          "metadata": {}
        }
      ]
    },
    {
      "cell_type": "code",
      "source": [
        "df =record.to_dataframe()\n",
        "df.head()"
      ],
      "metadata": {
        "colab": {
          "base_uri": "https://localhost:8080/",
          "height": 206
        },
        "id": "izm2VJ40QbdL",
        "outputId": "6f3a56ca-ee54-4eb4-dd4f-cc0178470cbc"
      },
      "execution_count": 45,
      "outputs": [
        {
          "output_type": "execute_result",
          "data": {
            "text/plain": [
              "                            MLII     V1\n",
              "0 days 00:00:00           -5.955 -5.635\n",
              "0 days 00:00:00.002777777 -5.955 -5.635\n",
              "0 days 00:00:00.005555554 -5.955 -5.635\n",
              "0 days 00:00:00.008333331 -5.955 -5.635\n",
              "0 days 00:00:00.011111108 -5.955 -5.635"
            ],
            "text/html": [
              "\n",
              "  <div id=\"df-890f2a71-df4c-47cd-adcd-410fc1cb691a\" class=\"colab-df-container\">\n",
              "    <div>\n",
              "<style scoped>\n",
              "    .dataframe tbody tr th:only-of-type {\n",
              "        vertical-align: middle;\n",
              "    }\n",
              "\n",
              "    .dataframe tbody tr th {\n",
              "        vertical-align: top;\n",
              "    }\n",
              "\n",
              "    .dataframe thead th {\n",
              "        text-align: right;\n",
              "    }\n",
              "</style>\n",
              "<table border=\"1\" class=\"dataframe\">\n",
              "  <thead>\n",
              "    <tr style=\"text-align: right;\">\n",
              "      <th></th>\n",
              "      <th>MLII</th>\n",
              "      <th>V1</th>\n",
              "    </tr>\n",
              "  </thead>\n",
              "  <tbody>\n",
              "    <tr>\n",
              "      <th>0 days 00:00:00</th>\n",
              "      <td>-5.955</td>\n",
              "      <td>-5.635</td>\n",
              "    </tr>\n",
              "    <tr>\n",
              "      <th>0 days 00:00:00.002777777</th>\n",
              "      <td>-5.955</td>\n",
              "      <td>-5.635</td>\n",
              "    </tr>\n",
              "    <tr>\n",
              "      <th>0 days 00:00:00.005555554</th>\n",
              "      <td>-5.955</td>\n",
              "      <td>-5.635</td>\n",
              "    </tr>\n",
              "    <tr>\n",
              "      <th>0 days 00:00:00.008333331</th>\n",
              "      <td>-5.955</td>\n",
              "      <td>-5.635</td>\n",
              "    </tr>\n",
              "    <tr>\n",
              "      <th>0 days 00:00:00.011111108</th>\n",
              "      <td>-5.955</td>\n",
              "      <td>-5.635</td>\n",
              "    </tr>\n",
              "  </tbody>\n",
              "</table>\n",
              "</div>\n",
              "    <div class=\"colab-df-buttons\">\n",
              "\n",
              "  <div class=\"colab-df-container\">\n",
              "    <button class=\"colab-df-convert\" onclick=\"convertToInteractive('df-890f2a71-df4c-47cd-adcd-410fc1cb691a')\"\n",
              "            title=\"Convert this dataframe to an interactive table.\"\n",
              "            style=\"display:none;\">\n",
              "\n",
              "  <svg xmlns=\"http://www.w3.org/2000/svg\" height=\"24px\" viewBox=\"0 -960 960 960\">\n",
              "    <path d=\"M120-120v-720h720v720H120Zm60-500h600v-160H180v160Zm220 220h160v-160H400v160Zm0 220h160v-160H400v160ZM180-400h160v-160H180v160Zm440 0h160v-160H620v160ZM180-180h160v-160H180v160Zm440 0h160v-160H620v160Z\"/>\n",
              "  </svg>\n",
              "    </button>\n",
              "\n",
              "  <style>\n",
              "    .colab-df-container {\n",
              "      display:flex;\n",
              "      gap: 12px;\n",
              "    }\n",
              "\n",
              "    .colab-df-convert {\n",
              "      background-color: #E8F0FE;\n",
              "      border: none;\n",
              "      border-radius: 50%;\n",
              "      cursor: pointer;\n",
              "      display: none;\n",
              "      fill: #1967D2;\n",
              "      height: 32px;\n",
              "      padding: 0 0 0 0;\n",
              "      width: 32px;\n",
              "    }\n",
              "\n",
              "    .colab-df-convert:hover {\n",
              "      background-color: #E2EBFA;\n",
              "      box-shadow: 0px 1px 2px rgba(60, 64, 67, 0.3), 0px 1px 3px 1px rgba(60, 64, 67, 0.15);\n",
              "      fill: #174EA6;\n",
              "    }\n",
              "\n",
              "    .colab-df-buttons div {\n",
              "      margin-bottom: 4px;\n",
              "    }\n",
              "\n",
              "    [theme=dark] .colab-df-convert {\n",
              "      background-color: #3B4455;\n",
              "      fill: #D2E3FC;\n",
              "    }\n",
              "\n",
              "    [theme=dark] .colab-df-convert:hover {\n",
              "      background-color: #434B5C;\n",
              "      box-shadow: 0px 1px 3px 1px rgba(0, 0, 0, 0.15);\n",
              "      filter: drop-shadow(0px 1px 2px rgba(0, 0, 0, 0.3));\n",
              "      fill: #FFFFFF;\n",
              "    }\n",
              "  </style>\n",
              "\n",
              "    <script>\n",
              "      const buttonEl =\n",
              "        document.querySelector('#df-890f2a71-df4c-47cd-adcd-410fc1cb691a button.colab-df-convert');\n",
              "      buttonEl.style.display =\n",
              "        google.colab.kernel.accessAllowed ? 'block' : 'none';\n",
              "\n",
              "      async function convertToInteractive(key) {\n",
              "        const element = document.querySelector('#df-890f2a71-df4c-47cd-adcd-410fc1cb691a');\n",
              "        const dataTable =\n",
              "          await google.colab.kernel.invokeFunction('convertToInteractive',\n",
              "                                                    [key], {});\n",
              "        if (!dataTable) return;\n",
              "\n",
              "        const docLinkHtml = 'Like what you see? Visit the ' +\n",
              "          '<a target=\"_blank\" href=https://colab.research.google.com/notebooks/data_table.ipynb>data table notebook</a>'\n",
              "          + ' to learn more about interactive tables.';\n",
              "        element.innerHTML = '';\n",
              "        dataTable['output_type'] = 'display_data';\n",
              "        await google.colab.output.renderOutput(dataTable, element);\n",
              "        const docLink = document.createElement('div');\n",
              "        docLink.innerHTML = docLinkHtml;\n",
              "        element.appendChild(docLink);\n",
              "      }\n",
              "    </script>\n",
              "  </div>\n",
              "\n",
              "\n",
              "<div id=\"df-e292638c-8a78-4888-8570-5af90605dc9a\">\n",
              "  <button class=\"colab-df-quickchart\" onclick=\"quickchart('df-e292638c-8a78-4888-8570-5af90605dc9a')\"\n",
              "            title=\"Suggest charts\"\n",
              "            style=\"display:none;\">\n",
              "\n",
              "<svg xmlns=\"http://www.w3.org/2000/svg\" height=\"24px\"viewBox=\"0 0 24 24\"\n",
              "     width=\"24px\">\n",
              "    <g>\n",
              "        <path d=\"M19 3H5c-1.1 0-2 .9-2 2v14c0 1.1.9 2 2 2h14c1.1 0 2-.9 2-2V5c0-1.1-.9-2-2-2zM9 17H7v-7h2v7zm4 0h-2V7h2v10zm4 0h-2v-4h2v4z\"/>\n",
              "    </g>\n",
              "</svg>\n",
              "  </button>\n",
              "\n",
              "<style>\n",
              "  .colab-df-quickchart {\n",
              "      --bg-color: #E8F0FE;\n",
              "      --fill-color: #1967D2;\n",
              "      --hover-bg-color: #E2EBFA;\n",
              "      --hover-fill-color: #174EA6;\n",
              "      --disabled-fill-color: #AAA;\n",
              "      --disabled-bg-color: #DDD;\n",
              "  }\n",
              "\n",
              "  [theme=dark] .colab-df-quickchart {\n",
              "      --bg-color: #3B4455;\n",
              "      --fill-color: #D2E3FC;\n",
              "      --hover-bg-color: #434B5C;\n",
              "      --hover-fill-color: #FFFFFF;\n",
              "      --disabled-bg-color: #3B4455;\n",
              "      --disabled-fill-color: #666;\n",
              "  }\n",
              "\n",
              "  .colab-df-quickchart {\n",
              "    background-color: var(--bg-color);\n",
              "    border: none;\n",
              "    border-radius: 50%;\n",
              "    cursor: pointer;\n",
              "    display: none;\n",
              "    fill: var(--fill-color);\n",
              "    height: 32px;\n",
              "    padding: 0;\n",
              "    width: 32px;\n",
              "  }\n",
              "\n",
              "  .colab-df-quickchart:hover {\n",
              "    background-color: var(--hover-bg-color);\n",
              "    box-shadow: 0 1px 2px rgba(60, 64, 67, 0.3), 0 1px 3px 1px rgba(60, 64, 67, 0.15);\n",
              "    fill: var(--button-hover-fill-color);\n",
              "  }\n",
              "\n",
              "  .colab-df-quickchart-complete:disabled,\n",
              "  .colab-df-quickchart-complete:disabled:hover {\n",
              "    background-color: var(--disabled-bg-color);\n",
              "    fill: var(--disabled-fill-color);\n",
              "    box-shadow: none;\n",
              "  }\n",
              "\n",
              "  .colab-df-spinner {\n",
              "    border: 2px solid var(--fill-color);\n",
              "    border-color: transparent;\n",
              "    border-bottom-color: var(--fill-color);\n",
              "    animation:\n",
              "      spin 1s steps(1) infinite;\n",
              "  }\n",
              "\n",
              "  @keyframes spin {\n",
              "    0% {\n",
              "      border-color: transparent;\n",
              "      border-bottom-color: var(--fill-color);\n",
              "      border-left-color: var(--fill-color);\n",
              "    }\n",
              "    20% {\n",
              "      border-color: transparent;\n",
              "      border-left-color: var(--fill-color);\n",
              "      border-top-color: var(--fill-color);\n",
              "    }\n",
              "    30% {\n",
              "      border-color: transparent;\n",
              "      border-left-color: var(--fill-color);\n",
              "      border-top-color: var(--fill-color);\n",
              "      border-right-color: var(--fill-color);\n",
              "    }\n",
              "    40% {\n",
              "      border-color: transparent;\n",
              "      border-right-color: var(--fill-color);\n",
              "      border-top-color: var(--fill-color);\n",
              "    }\n",
              "    60% {\n",
              "      border-color: transparent;\n",
              "      border-right-color: var(--fill-color);\n",
              "    }\n",
              "    80% {\n",
              "      border-color: transparent;\n",
              "      border-right-color: var(--fill-color);\n",
              "      border-bottom-color: var(--fill-color);\n",
              "    }\n",
              "    90% {\n",
              "      border-color: transparent;\n",
              "      border-bottom-color: var(--fill-color);\n",
              "    }\n",
              "  }\n",
              "</style>\n",
              "\n",
              "  <script>\n",
              "    async function quickchart(key) {\n",
              "      const quickchartButtonEl =\n",
              "        document.querySelector('#' + key + ' button');\n",
              "      quickchartButtonEl.disabled = true;  // To prevent multiple clicks.\n",
              "      quickchartButtonEl.classList.add('colab-df-spinner');\n",
              "      try {\n",
              "        const charts = await google.colab.kernel.invokeFunction(\n",
              "            'suggestCharts', [key], {});\n",
              "      } catch (error) {\n",
              "        console.error('Error during call to suggestCharts:', error);\n",
              "      }\n",
              "      quickchartButtonEl.classList.remove('colab-df-spinner');\n",
              "      quickchartButtonEl.classList.add('colab-df-quickchart-complete');\n",
              "    }\n",
              "    (() => {\n",
              "      let quickchartButtonEl =\n",
              "        document.querySelector('#df-e292638c-8a78-4888-8570-5af90605dc9a button');\n",
              "      quickchartButtonEl.style.display =\n",
              "        google.colab.kernel.accessAllowed ? 'block' : 'none';\n",
              "    })();\n",
              "  </script>\n",
              "</div>\n",
              "    </div>\n",
              "  </div>\n"
            ]
          },
          "metadata": {},
          "execution_count": 45
        }
      ]
    },
    {
      "cell_type": "markdown",
      "source": [
        "## FIR Filter"
      ],
      "metadata": {
        "id": "cxCkP4E1T0JL"
      }
    },
    {
      "cell_type": "code",
      "source": [
        "from scipy import signal\n",
        "import numpy as np\n",
        "\n",
        "def apply_fir_filter(x, fc, fs, filter_order):\n",
        "  ''' retrospective filtering\n",
        "  x: signal, fc: cut-off freq, fs: sampling filtering\n",
        "  '''\n",
        "  normalized_cutoff = fc /(fs/2)\n",
        "\n",
        "  fir_coef = signal.firwin(filter_order, normalized_cutoff, window='hamming')\n",
        "\n",
        "  filt_x = np.convolve(x, fir_coef, mode='same')\n",
        "\n",
        "  return filt_x, fir_coef"
      ],
      "metadata": {
        "id": "Dp267TgZUfjB"
      },
      "execution_count": 52,
      "outputs": []
    },
    {
      "cell_type": "code",
      "source": [
        "fc = 10.0 #HZ\n",
        "filter_order = 5\n",
        "fs = sampling_freq\n",
        "x = signals[1000:2000,0]\n",
        "filt_signal, fir_coefficients = apply_fir_filter(x, fc, fs, filter_order)\n"
      ],
      "metadata": {
        "id": "4zgPz7g-VjC-"
      },
      "execution_count": 60,
      "outputs": []
    },
    {
      "cell_type": "code",
      "source": [
        "plt.figure(figsize=(10, 6))\n",
        "plt.plot(x, label='Original Signal')\n",
        "plt.plot(filt_signal, label='Filtered Signal')\n",
        "plt.xlabel('Time')\n",
        "plt.ylabel('Amplitude')\n",
        "plt.title('Signal before and after FIR Filtering')\n",
        "plt.legend()\n",
        "plt.show()"
      ],
      "metadata": {
        "colab": {
          "base_uri": "https://localhost:8080/",
          "height": 418
        },
        "id": "Ro2v57m2WIc2",
        "outputId": "d06a67ab-b699-41c4-9c9e-f954205878d8"
      },
      "execution_count": 61,
      "outputs": [
        {
          "output_type": "display_data",
          "data": {
            "text/plain": [
              "<Figure size 1000x600 with 1 Axes>"
            ],
            "image/png": "[encoded data removed]"
          },
          "metadata": {}
        }
      ]
    }
  ]
}